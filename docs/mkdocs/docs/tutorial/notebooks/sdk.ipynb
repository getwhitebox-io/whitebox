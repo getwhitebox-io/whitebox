{
 "cells": [
  {
   "attachments": {},
   "cell_type": "markdown",
   "metadata": {},
   "source": [
    "# SDK Example"
   ]
  },
  {
   "cell_type": "code",
   "execution_count": 1,
   "metadata": {},
   "outputs": [],
   "source": [
    "from src.sdk.whitebox import Whitebox"
   ]
  },
  {
   "cell_type": "code",
   "execution_count": 2,
   "metadata": {},
   "outputs": [],
   "source": [
    "wb = Whitebox(host=\"http://127.0.0.1:8000\", api_key=\"1073a9a03e5c6bf06b3f7a0c23d44ff923842a63dc75929ff0543705bbd3fa26\")"
   ]
  },
  {
   "cell_type": "code",
   "execution_count": 3,
   "metadata": {},
   "outputs": [
    {
     "data": {
      "text/plain": [
       "{'id': '5dce48be-a16f-45dc-a878-d80b5b02a1f2',\n",
       " 'created_at': '2023-01-17T15:02:27.356199',\n",
       " 'updated_at': '2023-01-17T15:02:27.356199',\n",
       " 'name': 'Model 1',\n",
       " 'description': '',\n",
       " 'type': 'binary',\n",
       " 'features': {'additionalProp1': 'numerical',\n",
       "  'additionalProp2': 'numerical',\n",
       "  'target': 'numerical'},\n",
       " 'labels': {'additionalProp1': 0, 'additionalProp2': 1},\n",
       " 'prediction': 'y_prediction_multi',\n",
       " 'probability': 'proba'}"
      ]
     },
     "execution_count": 3,
     "metadata": {},
     "output_type": "execute_result"
    }
   ],
   "source": [
    "wb.create_model(name=\"Model 1\", type=\"binary\", features={'additionalProp1': 'numerical',\n",
    "  'additionalProp2': 'numerical',\n",
    "  'target': 'numerical'}, labels={'additionalProp1': 0, 'additionalProp2': 1}, prediction=\"y_prediction_multi\", probability=\"proba\")"
   ]
  },
  {
   "cell_type": "code",
   "execution_count": 4,
   "metadata": {},
   "outputs": [
    {
     "data": {
      "text/plain": [
       "{'id': '5dce48be-a16f-45dc-a878-d80b5b02a1f2',\n",
       " 'created_at': '2023-01-17T15:02:27.356199',\n",
       " 'updated_at': '2023-01-17T15:02:27.356199',\n",
       " 'name': 'Model 1',\n",
       " 'description': '',\n",
       " 'type': 'binary',\n",
       " 'features': {'additionalProp1': 'numerical',\n",
       "  'additionalProp2': 'numerical',\n",
       "  'target': 'numerical'},\n",
       " 'labels': {'additionalProp1': 0, 'additionalProp2': 1},\n",
       " 'prediction': 'y_prediction_multi',\n",
       " 'probability': 'proba'}"
      ]
     },
     "execution_count": 4,
     "metadata": {},
     "output_type": "execute_result"
    }
   ],
   "source": [
    "wb.get_model(\"5dce48be-a16f-45dc-a878-d80b5b02a1f2\")"
   ]
  },
  {
   "cell_type": "code",
   "execution_count": 5,
   "metadata": {},
   "outputs": [
    {
     "data": {
      "text/plain": [
       "True"
      ]
     },
     "execution_count": 5,
     "metadata": {},
     "output_type": "execute_result"
    }
   ],
   "source": [
    "import pandas as pd\n",
    "df = pd.read_csv(\"src/analytics/data/testing/classification_test_data.csv\")\n",
    "\n",
    "wb.log_training_dataset(model_id=\"5dce48be-a16f-45dc-a878-d80b5b02a1f2\", processed=df, non_processed=df)"
   ]
  },
  {
   "cell_type": "code",
   "execution_count": 6,
   "metadata": {},
   "outputs": [
    {
     "data": {
      "text/plain": [
       "True"
      ]
     },
     "execution_count": 6,
     "metadata": {},
     "output_type": "execute_result"
    }
   ],
   "source": [
    "import pandas as pd\n",
    "from src.tests.v1.mock_data import timestamps, mixed_actuals\n",
    "df = pd.read_csv(\"src/analytics/data/testing/classification_test_data.csv\")\n",
    "\n",
    "\n",
    "wb.log_inferences(model_id=\"5dce48be-a16f-45dc-a878-d80b5b02a1f2\", processed=df, non_processed=df, timestamps=timestamps, actuals=mixed_actuals)"
   ]
  },
  {
   "cell_type": "code",
   "execution_count": 7,
   "metadata": {},
   "outputs": [
    {
     "data": {
      "text/plain": [
       "True"
      ]
     },
     "execution_count": 7,
     "metadata": {},
     "output_type": "execute_result"
    }
   ],
   "source": [
    "wb.delete_model(\"5dce48be-a16f-45dc-a878-d80b5b02a1f2\")"
   ]
  }
 ],
 "metadata": {
  "kernelspec": {
   "display_name": "Python 3",
   "language": "python",
   "name": "python3"
  },
  "language_info": {
   "codemirror_mode": {
    "name": "ipython",
    "version": 3
   },
   "file_extension": ".py",
   "mimetype": "text/x-python",
   "name": "python",
   "nbconvert_exporter": "python",
   "pygments_lexer": "ipython3",
   "version": "3.10.8"
  },
  "orig_nbformat": 4,
  "vscode": {
   "interpreter": {
    "hash": "32a5a47fe20cdfbd609287887f2e78a4d5f2f7afeda3da775d5794970f9a3f8e"
   }
  }
 },
 "nbformat": 4,
 "nbformat_minor": 2
}
